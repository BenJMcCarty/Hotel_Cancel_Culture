{
 "cells": [
  {
   "attachments": {},
   "cell_type": "markdown",
   "id": "159c76d5-d81b-4c08-9c0b-355a457e4a44",
   "metadata": {},
   "source": [
    "# Calculating Hotel Occupancy\n",
    "\n",
    "---\n",
    "\n",
    "The length of a guest's stay is a key factor in understanding booking patterns and can offer valuable insights into customer behavior, revenue management, and the likelihood of cancellations.\n",
    "\n",
    "However, the dataset does not directly provide the total stay duration for each reservation. Instead, it includes separate counts for weekday and weekend nights.\n",
    "\n",
    "I will calculate the total stay duration by summing the number of weekday and weekend nights for each booking. This derived feature will be crucial for further analysis, enabling more accurate modeling of guest behavior, forecasting occupancy rates, and enhancing predictions related to cancellations and revenue.\n",
    "\n",
    "---"
   ]
  },
  {
   "cell_type": "markdown",
   "id": "16cfc56c-5347-412f-959e-5052dd3a93b6",
   "metadata": {},
   "source": [
    "# Import Packages and Read Data"
   ]
  },
  {
   "cell_type": "code",
   "execution_count": null,
   "id": "d5b0bba3-31a4-4802-b6ca-dac5437c0d5c",
   "metadata": {},
   "outputs": [],
   "source": [
    "## Data Handling\n",
    "import datetime as dt\n",
    "import pandas as pd\n",
    "\n",
    "## Settings\n",
    "pd.set_option('display.max_columns', None)\n",
    "pd.set_option('display.max_rows', 50)\n",
    "pd.set_option('display.float_format', lambda x: f'{x:,.2f}')"
   ]
  },
  {
   "cell_type": "markdown",
   "id": "9d758672-07dd-4219-9354-fe3e52327ddc",
   "metadata": {},
   "source": [
    "## Load Pre-Reviewed Data"
   ]
  },
  {
   "cell_type": "code",
   "execution_count": null,
   "id": "7b839a25-9b1d-4881-b45c-a819c57ee702",
   "metadata": {
    "scrolled": true
   },
   "outputs": [],
   "source": [
    "data_path = '../../data/3.1_temporally_updated_data.parquet'\n",
    "df_data = pd.read_parquet(data_path)\n",
    "df_data"
   ]
  },
  {
   "cell_type": "markdown",
   "id": "fba5009c-f366-445b-bb24-88a63ec75399",
   "metadata": {},
   "source": [
    "# Calculate Daily Occupancies"
   ]
  },
  {
   "cell_type": "markdown",
   "id": "d9d06875",
   "metadata": {},
   "source": [
    "#### Workflow Walkthrough\n",
    "\n",
    "\n",
    "**1. Generate Counts for Arrivals and Departures**\n",
    "\n",
    "```python\n",
    "arrivals = df_data_h1['ArrivalDate'].value_counts().rename('count')\n",
    "departures = df_data_h1['DepartureDate'].value_counts().rename('count')\n",
    "```\n",
    "- Counts how many reservations start (`arrivals`) and end (`departures`) on each date. The `value_counts()` method tallies occurrences of each date, and `rename('count')` changes the Series name to `'count'`, which aids in clarity for later operations.\n",
    "\n",
    "**2. Combine Arrival and Departure Counts**\n",
    "\n",
    "```python\n",
    "df_counts = pd.concat([arrivals, -departures]).sort_index().reset_index()\n",
    "df_counts.columns = ['Date', 'Count']\n",
    "```\n",
    "- Combines the arrivals and departures into a single DataFrame, `df_counts`, with arrivals contributing positively to the count and departures negatively (indicating the end of a reservation). The data is then sorted by date.\n",
    "\n",
    "**3. Aggregate Counts on the Same Date**\n",
    "\n",
    "```python\n",
    "df_counts = df_counts.groupby('Date').sum()\n",
    "```\n",
    "- Since the combination of arrivals and departures could result in multiple entries for the same date, this step aggregates (sums) all counts for each date. This ensures each date is unique, addressing the initial issue of duplicate labels.\n",
    "\n",
    "**4. Generate a Complete Date Range and Reindex**\n",
    "\n",
    "```python\n",
    "date_range = pd.date_range(start=df_counts.index.min(), end=df_counts.index.max())\n",
    "df_counts = df_counts.reindex(date_range, fill_value=0)\n",
    "```\n",
    "- Creates a continuous range of dates covering the entire period from the earliest to the latest date in `df_counts`. It then reindexes `df_counts` to include every date in this range, filling any dates without data with `0`, ensuring there's a record for every single day in the period.\n",
    "\n",
    "**5. Calculate Cumulative Sum for Active Reservations**\n",
    "\n",
    "```python\n",
    "df_counts['Active_Reservations'] = df_counts['Count'].cumsum()\n",
    "```\n",
    "- Computes the cumulative sum of the daily net reservation counts (`Count`). This step effectively calculates the total number of active reservations for each date by adding up the arrivals and subtracting the departures as they occur over time.\n",
    "\n",
    "**Conclusion**\n",
    "\n",
    "- The final output, `df_counts['Active_Reservations']`, shows the total number of active reservations for each date in the range. This method is efficient and avoids the problem of duplicate labels by ensuring that each date is unique before the reindexing step, leveraging pandas' capabilities for handling time series data."
   ]
  },
  {
   "cell_type": "markdown",
   "id": "13648607",
   "metadata": {},
   "source": [
    "#### Groupby.Sum vs. Cumsum\n",
    "\n",
    "\n",
    "The use of both `groupby().sum()` and the `cumsum()` methods serves two different purposes in the process of calculating the total number of active reservations for each date. Here's a clarification of the roles each step plays in the computation:\n",
    "\n",
    "**1. GroupBy().sum()**\n",
    "\n",
    "- **Purpose:** This step aggregates the daily net changes in reservations (arrivals and departures) for each unique date. Since arrivals are counted positively and departures negatively, the sum for each date tells us the net reservation change on that day. \n",
    "- **What It Solves:** If, for instance, 5 reservations start (arrive) and 3 end (depart) on a particular date, the net change in reservations for that day would be +2. This calculation consolidates all changes into a single value per date, ensuring there's no duplication of dates in the dataset, which is necessary for the next steps.\n",
    "\n",
    "**2. cumsum()**\n",
    "\n",
    "- **Purpose:** The cumulative sum (`cumsum()`) takes these daily net changes and accumulates them over the entire period to calculate the total number of active reservations for each date. It essentially adds up the net changes from the start date, rolling forward, to show how many reservations are active on any given day.\n",
    "- **What It Solves:** This step provides the running total of active reservations. It accounts for the ongoing balance of reservations as they begin and end over time, showing the total active reservations on each date. This is crucial for understanding the capacity or occupancy on any given day.\n",
    "\n",
    "**Illustrative Example:**\n",
    "\n",
    "Let's say you have data for three days:\n",
    "\n",
    "- **Day 1:** 5 arrivals, 0 departures (net +5)\n",
    "- **Day 2:** 3 arrivals, 1 departure (net +2)\n",
    "- **Day 3:** 2 arrivals, 4 departures (net -2)\n",
    "\n",
    "After `groupby().sum()`, you'd have a net change sequence of [+5, +2, -2].\n",
    "\n",
    "Applying `cumsum()` to this sequence gives you the total active reservations for each day: [5, 7, 5]. This demonstrates how the occupancy evolves:\n",
    "\n",
    "- **Day 1:** Starts with 5,\n",
    "- **Day 2:** Increases to 7,\n",
    "- **Day 3:** Decreases back to 5.\n",
    "\n",
    "**Conclusion:**\n",
    "\n",
    "- **`groupby().sum()`** is used for condensing the dataset into a form where each date has a single net change value, resolving any issues with duplicate dates.\n",
    "- **`cumsum()`** transforms these net changes into a running total of active reservations, reflecting how the number of active reservations builds up or reduces over time."
   ]
  },
  {
   "cell_type": "markdown",
   "id": "4e5a3bb9",
   "metadata": {},
   "source": [
    "### Functions: Calculating Occupancies"
   ]
  },
  {
   "cell_type": "code",
   "execution_count": null,
   "id": "e7811cfd",
   "metadata": {},
   "outputs": [],
   "source": [
    "def get_counts(dataframe, arrivaldate, departuredate, name = 'count'):\n",
    "    \n",
    "    '''Generate counts for arrivals and departures on their respective dates.'''\n",
    "    \n",
    "    arrivals = (dataframe[arrivaldate]\n",
    "                .value_counts()\n",
    "                .rename(name))\n",
    "    \n",
    "    departures = (dataframe[departuredate]\n",
    "                  .value_counts()\n",
    "                  .rename(name))\n",
    "    \n",
    "    return arrivals, departures\n",
    "\n",
    "\n",
    "def aggregate_counts_by_date(arrivals, departures):\n",
    "    \n",
    "    '''Create a DataFrame from arrivals and departures,\n",
    "    marking departures as negative.'''\n",
    "    \n",
    "    df_counts = (pd.concat([arrivals, -departures])\n",
    "                 .sort_index()\n",
    "                 .reset_index())\n",
    "    \n",
    "    df_counts.columns = ['Date', 'Count']\n",
    "    \n",
    "    return df_counts.groupby('Date').sum()\n",
    "\n",
    "\n",
    "def generate_date_range(df_counts):\n",
    "    '''Generate a complete date range covering the period in df_data.'''\n",
    "    \n",
    "    return pd.date_range(start=df_counts.index.min(),\n",
    "                         end=df_counts.index.max())\n",
    "\n",
    "\n",
    "def reindex_and_fill_zero(df_counts, date_range):\n",
    "    '''Reindex the aggregated count DataFrame to include all dates in the range,\n",
    "    filling missing dates with 0'''\n",
    "    \n",
    "    return df_counts.reindex(date_range, fill_value=0)\n",
    "\n",
    "\n",
    "def calculate_daily_active_res(df_counts):\n",
    "    '''Calculate the cumulative sum to determine active reservations for each date'''\n",
    "   \n",
    "    return df_counts['Count'].cumsum()\n",
    "\n",
    "\n",
    "def calculate_daily_occupancy(dataframe, arrivaldate, departuredate, name = 'count'):\n",
    "    \n",
    "    arrivals, departures = get_counts(dataframe, arrivaldate, departuredate, name = 'count')\n",
    "    \n",
    "    daily_counts = aggregate_counts_by_date(arrivals, departures)\n",
    "    \n",
    "    date_range = generate_date_range((daily_counts))\n",
    "    \n",
    "    df_reindexed = reindex_and_fill_zero(daily_counts, date_range)\n",
    "    \n",
    "    return calculate_daily_active_res(df_reindexed)"
   ]
  },
  {
   "cell_type": "markdown",
   "id": "8fcc8005",
   "metadata": {},
   "source": [
    "# Calculating Occupancy for Hotel 1"
   ]
  },
  {
   "cell_type": "code",
   "execution_count": null,
   "id": "444d4345",
   "metadata": {},
   "outputs": [],
   "source": [
    "## Subset the data\n",
    "\n",
    "hotel = 'H1'\n",
    "\n",
    "hotel_filter = (df_data['HotelNumber'] == hotel)\n",
    "\n",
    "df_data_h1 = df_data[hotel_filter]\n",
    "\n",
    "df_data_h1"
   ]
  },
  {
   "cell_type": "markdown",
   "id": "55d2e904",
   "metadata": {},
   "source": [
    "## Calculate Daily and Max Occupancies"
   ]
  },
  {
   "cell_type": "code",
   "execution_count": null,
   "id": "db71770e",
   "metadata": {},
   "outputs": [],
   "source": [
    "df_counts = calculate_daily_occupancy(df_data_h1, 'ArrivalDate', 'DepartureDate')\n",
    "df_counts.name = 'Active_Reservations'\n",
    "df_counts.head(10)"
   ]
  },
  {
   "cell_type": "code",
   "execution_count": null,
   "id": "e189dd10-d442-4c15-8e36-eb8ba762d635",
   "metadata": {},
   "outputs": [],
   "source": [
    "# Define active_reservations\n",
    "active_reservations = df_counts\n",
    "\n",
    "# Find the maximum occupancy\n",
    "max_occupancy = active_reservations.max()\n",
    "max_occupancy"
   ]
  },
  {
   "cell_type": "markdown",
   "id": "819ec323",
   "metadata": {},
   "source": [
    "## Append Occupancies to Subset Data"
   ]
  },
  {
   "cell_type": "code",
   "execution_count": null,
   "id": "2dd56386",
   "metadata": {},
   "outputs": [],
   "source": [
    "# Map the occupancy on arrival and departure dates to each reservation\n",
    "df_data_h1.loc[:, 'occupancy_at_arrival'] = df_data_h1.loc[:, 'ArrivalDate'].map(active_reservations)\n",
    "df_data_h1.loc[:, 'occupancy_at_departure'] = df_data_h1.loc[:, 'DepartureDate'].map(active_reservations)\n",
    "\n",
    "# Convert these occupancies to percentages of the maximum occupancy\n",
    "df_data_h1.loc[:, 'occupancy_pct_at_arrival'] = (df_data_h1.loc[:, 'occupancy_at_arrival'] / max_occupancy)\n",
    "df_data_h1.loc[:, 'occupancy_pct_at_departure'] = (df_data_h1.loc[:, 'occupancy_at_departure'] / max_occupancy)\n",
    "\n",
    "df_data_h1"
   ]
  },
  {
   "cell_type": "markdown",
   "id": "ccafba5c",
   "metadata": {},
   "source": [
    "# Calculating Occupancy for Hotel 2"
   ]
  },
  {
   "cell_type": "code",
   "execution_count": null,
   "id": "dd718fe4",
   "metadata": {},
   "outputs": [],
   "source": [
    "hotel = 'H2'\n",
    "\n",
    "hotel_filter = (df_data['HotelNumber'] == hotel)\n",
    "\n",
    "df_data_h2 = df_data[hotel_filter]\n",
    "\n",
    "df_counts_h2 = calculate_daily_occupancy(df_data_h2, 'ArrivalDate', 'DepartureDate')\n",
    "df_counts_h2.name = 'Active_Reservations'\n",
    "df_counts_h2"
   ]
  },
  {
   "cell_type": "markdown",
   "id": "1a141d97",
   "metadata": {},
   "source": [
    "## Calculate Daily and Max Occupancies"
   ]
  },
  {
   "cell_type": "code",
   "execution_count": null,
   "id": "74ffa2e8",
   "metadata": {},
   "outputs": [],
   "source": [
    "# Define active_reservations\n",
    "active_reservations = df_counts\n",
    "\n",
    "# Find the maximum occupancy\n",
    "max_occupancy = active_reservations.max()"
   ]
  },
  {
   "cell_type": "markdown",
   "id": "c140707f",
   "metadata": {},
   "source": [
    "## Append Occupancies to Subset Data"
   ]
  },
  {
   "cell_type": "code",
   "execution_count": null,
   "id": "7fcfeed8",
   "metadata": {},
   "outputs": [],
   "source": [
    "# Map the occupancy on arrival and departure dates to each reservation\n",
    "df_data_h2.loc[:, 'occupancy_at_arrival'] = df_data_h2.loc[:, 'ArrivalDate'].map(active_reservations)\n",
    "df_data_h2.loc[:, 'occupancy_at_departure'] = df_data_h2.loc[:, 'DepartureDate'].map(active_reservations)\n",
    "\n",
    "# Convert these occupancies to percentages of the maximum occupancy\n",
    "df_data_h2.loc[:, 'occupancy_pct_at_arrival'] = (df_data_h2.loc[:, 'occupancy_at_arrival'] / max_occupancy)\n",
    "df_data_h2.loc[:, 'occupancy_pct_at_departure'] = (df_data_h2.loc[:, 'occupancy_at_departure'] / max_occupancy)\n",
    "\n",
    "df_data_h2"
   ]
  },
  {
   "cell_type": "markdown",
   "id": "8630cc35",
   "metadata": {},
   "source": [
    "# Combine Subset Datasets into Single DataFrame"
   ]
  },
  {
   "cell_type": "code",
   "execution_count": null,
   "id": "11f48f16",
   "metadata": {},
   "outputs": [],
   "source": [
    "full_dataset = pd.concat([df_data_h1, df_data_h2], axis = 0)\n",
    "\n",
    "full_dataset.to_parquet('../../data/3.2_data_with_occupancies.parquet', compression = 'zstd')"
   ]
  },
  {
   "cell_type": "markdown",
   "id": "1934156c",
   "metadata": {},
   "source": [
    "# **Final Review**\n",
    "\n",
    "---\n",
    "\n",
    "The calculation of occupancy percentages at the time of arrival and departure has provided valuable insights into the hotel’s operational dynamics during guests' stays. By determining occupancy levels at these critical points, I've gained a clearer understanding of how room availability fluctuates and how it might influence guest behavior, including cancellations. \n",
    "\n",
    "These occupancy metrics will play an important role in refining the predictive models and improving the accuracy of forecasts related to booking patterns, cancellations, and revenue management. The addition of these features strengthens the dataset, making it more robust for the next stages of analysis and modeling.\n",
    "\n",
    "---"
   ]
  },
  {
   "cell_type": "markdown",
   "id": "2c9c3d45",
   "metadata": {},
   "source": []
  }
 ],
 "metadata": {
  "kernelspec": {
   "display_name": "ds-env",
   "language": "python",
   "name": "python3"
  },
  "language_info": {
   "codemirror_mode": {
    "name": "ipython",
    "version": 3
   },
   "file_extension": ".py",
   "mimetype": "text/x-python",
   "name": "python",
   "nbconvert_exporter": "python",
   "pygments_lexer": "ipython3",
   "version": "3.12.12"
  },
  "widgets": {
   "application/vnd.jupyter.widget-state+json": {
    "state": {},
    "version_major": 2,
    "version_minor": 0
   }
  }
 },
 "nbformat": 4,
 "nbformat_minor": 5
}
